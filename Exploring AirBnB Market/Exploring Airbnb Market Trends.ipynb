{
 "cells": [
  {
   "cell_type": "code",
   "execution_count": null,
   "metadata": {},
   "outputs": [],
   "source": [
    "#Importing necessary libraries\n",
    "import pandas as pd\n",
    "import datetime as dt"
   ]
  },
  {
   "cell_type": "code",
   "execution_count": null,
   "metadata": {},
   "outputs": [],
   "source": [
    "#Reading files and cleaning data\n",
    "#PRICE DATAFRAME\n",
    "price_df = pd.read_csv('airbnb_price.csv')\n",
    "\n",
    "#Replacing 'dollars' with \"\" in \"price\" column\n",
    "price_df['price'] = price_df['price'].str.replace(\"dollars\", \"\")\n",
    "#Converting 'price' column as \"int\"\n",
    "price_df['price'] = price_df['price'].astype(\"int\")\n",
    "assert price_df['price'].dtype == \"int\"\n",
    "print(price_df.head(9))\n",
    "\n",
    "#ROOM_TYPE DATAFRAME\n",
    "room_type_data = pd.ExcelFile('airbnb_room_type.xlsx')\n",
    "room_type_df = room_type_data.parse('airbnb_room_type')\n",
    "\n",
    "room_type_df['room_type'] = room_type_df['room_type'].astype(str)\n",
    "room_type_df['room_type'] = room_type_df['room_type'].str.title()\n",
    "room_type_df['room_type'] = room_type_df['room_type'].astype('category')\n",
    "assert room_type_df['room_type'].dtype == 'category'\n",
    "print(room_type_df.head(9))\n",
    "\n",
    "#LAST_REVIEW DATAFRAME\n",
    "last_review_df = pd.read_csv('airbnb_last_review.tsv', sep='\\t')\n",
    "\n",
    "last_review_df['last_review'] = pd.to_datetime(last_review_df['last_review'])\n",
    "print(last_review_df.head(9))"
   ]
  },
  {
   "cell_type": "code",
   "execution_count": null,
   "metadata": {},
   "outputs": [],
   "source": [
    "#What are the dates of the earliest and most recent reviews? \n",
    "# Store these values as two separate variables with your preferred names.\n",
    "\n",
    "#Finding first_reviewed\n",
    "first_reviewed = last_review_df['last_review'].min()\n",
    "print(\"The earliest review was made at:\", first_reviewed)\n",
    "\n",
    "#Finding most_recent_review\n",
    "last_reviewed = last_review_df['last_review'].max()\n",
    "print(\"The most recent review was made is at:\", last_reviewed)\n"
   ]
  },
  {
   "cell_type": "code",
   "execution_count": null,
   "metadata": {},
   "outputs": [],
   "source": [
    "#How many of the listings are private rooms? \n",
    "# Save this into any variable.\n",
    "\n",
    "#Finding number of private rooms listings (nb_private_rooms)\n",
    "room_type_count_df = room_type_df.value_counts('room_type').reset_index()\n",
    "nb_private_rooms_df = room_type_count_df[room_type_count_df['room_type'] == 'Private Room']\n",
    "nb_private_rooms = nb_private_rooms_df.iloc[0,1]\n",
    "print(\"The number of listings that are Private rooms are:\", nb_private_rooms)"
   ]
  },
  {
   "cell_type": "code",
   "execution_count": null,
   "metadata": {},
   "outputs": [],
   "source": [
    "#What is the average listing price? \n",
    "#Round to the nearest two decimal places and \n",
    "# save into a variable.\n",
    "\n",
    "#Finding average listing price (avg_price)\n",
    "avg_price = price_df['price'].mean().round(2)\n",
    "print(\"The average listing price is:\", avg_price, \"$\")"
   ]
  },
  {
   "cell_type": "code",
   "execution_count": null,
   "metadata": {},
   "outputs": [],
   "source": [
    "#Combine the new variables into one DataFrame called review_dates with \n",
    "# four columns in the following order: first_reviewed, last_reviewed, nb_private_rooms, and avg_price. \n",
    "# The DataFrame should only contain one row of values.\n",
    "#Creating the dict\n",
    "review_dates_dict = {\n",
    "    'first_reviewed' : first_reviewed,\n",
    "    'last_reviewed' : last_reviewed,\n",
    "    'nb_private_rooms' : nb_private_rooms,\n",
    "    'avg_price' : avg_price\n",
    "}\n",
    "\n",
    "review_dates = pd.DataFrame(review_dates_dict, index=[0])\n",
    "print(review_dates)"
   ]
  },
  {
   "cell_type": "code",
   "execution_count": null,
   "metadata": {},
   "outputs": [],
   "source": [
    "#!!!!!! SOLUTION !!!!!!#\n",
    "# Import necessary packages\n",
    "import pandas as pd\n",
    "import numpy as np\n",
    "\n",
    "# Import CSV for prices\n",
    "airbnb_price = pd.read_csv('airbnb_price.csv')\n",
    "\n",
    "# Import Excel file for room types\n",
    "airbnb_room_type = pd.read_excel('airbnb_room_type.xlsx')\n",
    "\n",
    "# Import TSV for review dates\n",
    "airbnb_last_review = pd.read_csv('airbnb_last_review.tsv', sep='\\t')\n",
    "\n",
    "# Join the three data frames together into one\n",
    "listings = pd.merge(airbnb_price, airbnb_room_type, on='listing_id')\n",
    "listings = pd.merge(listings, airbnb_last_review, on='listing_id')\n",
    "\n",
    "# What are the dates of the earliest and most recent reviews?\n",
    "# To use a function like max()/min() on last_review date column, it needs to be converted to datetime type\n",
    "listings['last_review_date'] = pd.to_datetime(listings['last_review'], format='%B %d %Y')\n",
    "first_reviewed = listings['last_review_date'].min()\n",
    "last_reviewed = listings['last_review_date'].max()\n",
    "\n",
    "# How many of the listings are private rooms?\n",
    "# Since there are differences in capitalization, make capitalization consistent\n",
    "listings['room_type'] = listings['room_type'].str.lower()\n",
    "private_room_count = listings[listings['room_type'] == 'private room'].shape[0]\n",
    "\n",
    "# What is the average listing price?\n",
    "# To convert price to numeric, remove \" dollars\" from each value\n",
    "listings['price_clean'] = listings['price'].str.replace(' dollars', '').astype(float)\n",
    "avg_price = listings['price_clean'].mean()\n",
    "\n",
    "review_dates = pd.DataFrame({\n",
    "    'first_reviewed': [first_reviewed],\n",
    "    'last_reviewed': [last_reviewed],\n",
    "    'nb_private_rooms': [private_room_count],\n",
    "    'avg_price': [round(avg_price, 2)]\n",
    "})\n",
    "\n",
    "print(review_dates)\n"
   ]
  },
  {
   "cell_type": "markdown",
   "metadata": {},
   "source": [
    "|ALIGNMENT|"
   ]
  }
 ],
 "metadata": {
  "kernelspec": {
   "display_name": ".venv",
   "language": "python",
   "name": "python3"
  },
  "language_info": {
   "codemirror_mode": {
    "name": "ipython",
    "version": 3
   },
   "file_extension": ".py",
   "mimetype": "text/x-python",
   "name": "python",
   "nbconvert_exporter": "python",
   "pygments_lexer": "ipython3",
   "version": "3.11.0"
  }
 },
 "nbformat": 4,
 "nbformat_minor": 2
}
